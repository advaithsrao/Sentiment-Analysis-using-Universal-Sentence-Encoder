{
 "cells": [
  {
   "cell_type": "markdown",
   "metadata": {
    "id": "MFqTDjSPvE6W"
   },
   "source": [
    "\n",
    "## What is sentiment analysis?\n",
    "\n",
    "####  Sentiment Analysis is the process of ‘computationally’ determining whether a document(sentence, phrase) is positive, negative or neutral. It’s also known as opinion mining, deriving the opinion or attitude of a speaker.\n",
    "\n",
    "## Why sentiment analysis?\n",
    "\n",
    "1. **Business:** In marketing field companies use it to develop their strategies, to understand customers’ feelings towards products or brand, how people respond to their campaigns or product launches and why consumers don’t buy some products\n",
    "2. **Politics:** In political field, it is used to keep track of political view, to detect consistency and inconsistency between statements and actions at the government level. It can be used to predict election results as well!\n",
    "3. **Public Actions:** Sentiment analysis also is used to monitor and analyse social phenomena, for the spotting of potentially dangerous situations and determining the general mood of the blogosphere."
   ]
  },
  {
   "cell_type": "code",
   "execution_count": 16,
   "metadata": {
    "colab": {
     "base_uri": "https://localhost:8080/"
    },
    "id": "tVFvr6VevMqp",
    "outputId": "21754ad0-6dd2-4cbe-e6bd-e0a079dfb79f"
   },
   "outputs": [
    {
     "name": "stdout",
     "output_type": "stream",
     "text": [
      "Requirement already satisfied: pandas in /usr/local/lib/python3.7/dist-packages (1.1.5)\n",
      "Requirement already satisfied: imblearn in /usr/local/lib/python3.7/dist-packages (0.0)\n",
      "Requirement already satisfied: matplotlib in /usr/local/lib/python3.7/dist-packages (3.2.2)\n",
      "Requirement already satisfied: nltk in /usr/local/lib/python3.7/dist-packages (3.2.5)\n",
      "Requirement already satisfied: scikit-learn in /usr/local/lib/python3.7/dist-packages (0.22.2.post1)\n",
      "Requirement already satisfied: seaborn in /usr/local/lib/python3.7/dist-packages (0.11.2)\n",
      "Requirement already satisfied: pytz>=2017.2 in /usr/local/lib/python3.7/dist-packages (from pandas) (2018.9)\n",
      "Requirement already satisfied: python-dateutil>=2.7.3 in /usr/local/lib/python3.7/dist-packages (from pandas) (2.8.2)\n",
      "Requirement already satisfied: numpy>=1.15.4 in /usr/local/lib/python3.7/dist-packages (from pandas) (1.19.5)\n",
      "Requirement already satisfied: six>=1.5 in /usr/local/lib/python3.7/dist-packages (from python-dateutil>=2.7.3->pandas) (1.15.0)\n",
      "Requirement already satisfied: imbalanced-learn in /usr/local/lib/python3.7/dist-packages (from imblearn) (0.4.3)\n",
      "Requirement already satisfied: pyparsing!=2.0.4,!=2.1.2,!=2.1.6,>=2.0.1 in /usr/local/lib/python3.7/dist-packages (from matplotlib) (2.4.7)\n",
      "Requirement already satisfied: kiwisolver>=1.0.1 in /usr/local/lib/python3.7/dist-packages (from matplotlib) (1.3.2)\n",
      "Requirement already satisfied: cycler>=0.10 in /usr/local/lib/python3.7/dist-packages (from matplotlib) (0.10.0)\n",
      "Requirement already satisfied: joblib>=0.11 in /usr/local/lib/python3.7/dist-packages (from scikit-learn) (1.0.1)\n",
      "Requirement already satisfied: scipy>=0.17.0 in /usr/local/lib/python3.7/dist-packages (from scikit-learn) (1.4.1)\n",
      "Requirement already satisfied: tensorflow==1.15.0 in /usr/local/lib/python3.7/dist-packages (1.15.0)\n",
      "Requirement already satisfied: termcolor>=1.1.0 in /usr/local/lib/python3.7/dist-packages (from tensorflow==1.15.0) (1.1.0)\n",
      "Requirement already satisfied: keras-preprocessing>=1.0.5 in /usr/local/lib/python3.7/dist-packages (from tensorflow==1.15.0) (1.1.2)\n",
      "Requirement already satisfied: keras-applications>=1.0.8 in /usr/local/lib/python3.7/dist-packages (from tensorflow==1.15.0) (1.0.8)\n",
      "Requirement already satisfied: gast==0.2.2 in /usr/local/lib/python3.7/dist-packages (from tensorflow==1.15.0) (0.2.2)\n",
      "Requirement already satisfied: numpy<2.0,>=1.16.0 in /usr/local/lib/python3.7/dist-packages (from tensorflow==1.15.0) (1.19.5)\n",
      "Requirement already satisfied: six>=1.10.0 in /usr/local/lib/python3.7/dist-packages (from tensorflow==1.15.0) (1.15.0)\n",
      "Requirement already satisfied: tensorboard<1.16.0,>=1.15.0 in /usr/local/lib/python3.7/dist-packages (from tensorflow==1.15.0) (1.15.0)\n",
      "Requirement already satisfied: grpcio>=1.8.6 in /usr/local/lib/python3.7/dist-packages (from tensorflow==1.15.0) (1.40.0)\n",
      "Requirement already satisfied: google-pasta>=0.1.6 in /usr/local/lib/python3.7/dist-packages (from tensorflow==1.15.0) (0.2.0)\n",
      "Requirement already satisfied: astor>=0.6.0 in /usr/local/lib/python3.7/dist-packages (from tensorflow==1.15.0) (0.8.1)\n",
      "Requirement already satisfied: tensorflow-estimator==1.15.1 in /usr/local/lib/python3.7/dist-packages (from tensorflow==1.15.0) (1.15.1)\n",
      "Requirement already satisfied: wheel>=0.26 in /usr/local/lib/python3.7/dist-packages (from tensorflow==1.15.0) (0.37.0)\n",
      "Requirement already satisfied: wrapt>=1.11.1 in /usr/local/lib/python3.7/dist-packages (from tensorflow==1.15.0) (1.12.1)\n",
      "Requirement already satisfied: protobuf>=3.6.1 in /usr/local/lib/python3.7/dist-packages (from tensorflow==1.15.0) (3.17.3)\n",
      "Requirement already satisfied: absl-py>=0.7.0 in /usr/local/lib/python3.7/dist-packages (from tensorflow==1.15.0) (0.12.0)\n",
      "Requirement already satisfied: opt-einsum>=2.3.2 in /usr/local/lib/python3.7/dist-packages (from tensorflow==1.15.0) (3.3.0)\n",
      "Requirement already satisfied: h5py in /usr/local/lib/python3.7/dist-packages (from keras-applications>=1.0.8->tensorflow==1.15.0) (3.1.0)\n",
      "Requirement already satisfied: markdown>=2.6.8 in /usr/local/lib/python3.7/dist-packages (from tensorboard<1.16.0,>=1.15.0->tensorflow==1.15.0) (3.3.4)\n",
      "Requirement already satisfied: werkzeug>=0.11.15 in /usr/local/lib/python3.7/dist-packages (from tensorboard<1.16.0,>=1.15.0->tensorflow==1.15.0) (1.0.1)\n",
      "Requirement already satisfied: setuptools>=41.0.0 in /usr/local/lib/python3.7/dist-packages (from tensorboard<1.16.0,>=1.15.0->tensorflow==1.15.0) (57.4.0)\n",
      "Requirement already satisfied: importlib-metadata in /usr/local/lib/python3.7/dist-packages (from markdown>=2.6.8->tensorboard<1.16.0,>=1.15.0->tensorflow==1.15.0) (4.8.1)\n",
      "Requirement already satisfied: cached-property in /usr/local/lib/python3.7/dist-packages (from h5py->keras-applications>=1.0.8->tensorflow==1.15.0) (1.5.2)\n",
      "Requirement already satisfied: zipp>=0.5 in /usr/local/lib/python3.7/dist-packages (from importlib-metadata->markdown>=2.6.8->tensorboard<1.16.0,>=1.15.0->tensorflow==1.15.0) (3.5.0)\n",
      "Requirement already satisfied: typing-extensions>=3.6.4 in /usr/local/lib/python3.7/dist-packages (from importlib-metadata->markdown>=2.6.8->tensorboard<1.16.0,>=1.15.0->tensorflow==1.15.0) (3.7.4.3)\n",
      "Requirement already satisfied: tensorflow_hub==0.7.0 in /usr/local/lib/python3.7/dist-packages (0.7.0)\n",
      "Requirement already satisfied: protobuf>=3.4.0 in /usr/local/lib/python3.7/dist-packages (from tensorflow_hub==0.7.0) (3.17.3)\n",
      "Requirement already satisfied: six>=1.10.0 in /usr/local/lib/python3.7/dist-packages (from tensorflow_hub==0.7.0) (1.15.0)\n",
      "Requirement already satisfied: numpy>=1.12.0 in /usr/local/lib/python3.7/dist-packages (from tensorflow_hub==0.7.0) (1.19.5)\n"
     ]
    }
   ],
   "source": [
    "!pip3 install pandas imblearn matplotlib nltk scikit-learn seaborn\n",
    "!pip install \"tensorflow==1.15.0\"\n",
    "!pip install \"tensorflow_hub==0.7.0\"\n",
    "\n",
    "import warnings\n",
    "warnings.filterwarnings(\"ignore\")\n",
    "from absl import logging\n",
    "logging.set_verbosity(logging.ERROR)\n",
    "import numpy as np \n",
    "import pandas as pd \n",
    "import matplotlib.pyplot as plt \n",
    "import seaborn as sns\n",
    "import re\n",
    "import nltk\n",
    "from gensim.models import word2vec\n",
    "import time\n",
    "from nltk.corpus import stopwords\n",
    "from nltk.stem.porter import PorterStemmer\n",
    "from sklearn.model_selection import train_test_split\n",
    "from sklearn.feature_extraction.text import TfidfVectorizer\n",
    "from sklearn.metrics import confusion_matrix, accuracy_score, classification_report\n",
    "from sklearn.pipeline import Pipeline\n",
    "from imblearn.over_sampling import SMOTE\n",
    "from collections import Counter\n",
    "\n",
    "\n",
    "#try tunning on a GPU accelerated run time\n",
    "# !pip3 install tensorflow_text==1.15\n",
    "# !pip install tensorflow_text\n",
    "# import tensorflow_text\n",
    "# import tensorflow.compat.v1 as tf\n",
    "# tf.disable_v2_behavior()\n",
    "import tensorflow as tf\n",
    "import tensorflow_hub as hub\n",
    "\n",
    "from sklearn.naive_bayes import GaussianNB\n",
    "from sklearn.svm import SVC\n",
    "from nltk import sentiment\n"
   ]
  },
  {
   "cell_type": "markdown",
   "metadata": {
    "id": "br2BXfo9vE6c"
   },
   "source": [
    "## The data file attached is a set of tweets\n",
    "\n",
    "#### **Source:** https://www.kaggle.com/kazanova/sentiment140\n",
    "\n",
    "#### Since the source file is >100MB let us try to implement this with a subset (found in data folder) \n",
    "#### Kindly extract training.1600000.processed.noemoticon.csv.zip and uncomment the lines in the next cell to execute the analysis for all the tweets(80k positive + 80k negative) "
   ]
  },
  {
   "cell_type": "code",
   "execution_count": 17,
   "metadata": {
    "colab": {
     "base_uri": "https://localhost:8080/",
     "height": 35
    },
    "id": "Rej6F4amvMqq",
    "outputId": "93009d12-9977-42d1-9e77-7aa302c9a829"
   },
   "outputs": [
    {
     "data": {
      "application/vnd.google.colaboratory.intrinsic+json": {
       "type": "string"
      },
      "text/plain": [
       "'1.15.0'"
      ]
     },
     "execution_count": 17,
     "metadata": {},
     "output_type": "execute_result"
    }
   ],
   "source": [
    "# # Importing the dataset\n",
    "# DATASET_COLUMNS  = [\"sentiment\", \"ids\", \"date\", \"flag\", \"user\", \"text\"]\n",
    "# DATASET_ENCODING = \"ISO-8859-1\"\n",
    "# df = pd.read_csv('data/training.1600000.processed.noemoticon.csv',\n",
    "#                       encoding=DATASET_ENCODING , names=DATASET_COLUMNS)\n",
    "\n",
    "# # Removing the unnecessary columns.\n",
    "# df = df[['text','sentiment']]\n",
    "# df.columns =['tweet','label'] \n",
    "\n",
    "\n",
    "tf.__version__"
   ]
  },
  {
   "cell_type": "code",
   "execution_count": 18,
   "metadata": {
    "id": "kOZ8nMbXvMqr"
   },
   "outputs": [],
   "source": [
    "# # let us down sample this to save execution time and keep ~20k examples per target\n",
    "# df = pd.concat([df[df.label==0].iloc[:20000,:],df[df.label==4].iloc[:20000,:]]).sample(frac=1).reset_index(drop=True)\n",
    "# df.head(20)\n"
   ]
  },
  {
   "cell_type": "code",
   "execution_count": 19,
   "metadata": {
    "colab": {
     "base_uri": "https://localhost:8080/"
    },
    "id": "Al6lptC7vMqr",
    "outputId": "8603c131-c073-4307-ba41-b5926f58ec3b"
   },
   "outputs": [
    {
     "data": {
      "text/plain": [
       "4    20000\n",
       "0    20000\n",
       "Name: label, dtype: int64"
      ]
     },
     "execution_count": 19,
     "metadata": {},
     "output_type": "execute_result"
    }
   ],
   "source": [
    "df = pd.read_csv(\"/data/tweets.csv\")\n",
    "df.label.value_counts()"
   ]
  },
  {
   "cell_type": "code",
   "execution_count": 20,
   "metadata": {
    "id": "hcYc7viAvE6e"
   },
   "outputs": [],
   "source": [
    "# #check if there is null values\n",
    "df.isnull().sum()"
   ]
  },
  {
   "cell_type": "markdown",
   "metadata": {
    "id": "pdCB15-0vMqs"
   },
   "source": [
    "#### since there are two columns '0' and '1', let us rename them to 'negative' and 'positive' respectively"
   ]
  },
  {
   "cell_type": "code",
   "execution_count": 21,
   "metadata": {
    "colab": {
     "base_uri": "https://localhost:8080/",
     "height": 296
    },
    "id": "VYYwKbHwvMqt",
    "outputId": "fb47fbfd-2c74-45ae-8e33-25e835ecf8cd"
   },
   "outputs": [
    {
     "data": {
      "text/plain": [
       "<matplotlib.axes._subplots.AxesSubplot at 0x7f222bfb77d0>"
      ]
     },
     "execution_count": 21,
     "metadata": {},
     "output_type": "execute_result"
    },
    {
     "data": {
      "image/png": "[encoded data removed]",
      "text/plain": [
       "<Figure size 432x288 with 1 Axes>"
      ]
     },
     "metadata": {
      "needs_background": "light"
     },
     "output_type": "display_data"
    }
   ],
   "source": [
    "df.label = df.label.map({0:'negative',4:'positive'})\n",
    "sns.countplot(x='label', data=df)"
   ]
  },
  {
   "cell_type": "markdown",
   "metadata": {
    "id": "Tr3loCKhvMqu"
   },
   "source": [
    "#### Let us call the preprocess function on the text column, to clean the text by,\n",
    "1. Removing non-alphanumeric characters and replace emojis with words\n",
    "2. Lowercase text\n",
    "3. Stemming Words\n",
    "4. Lemmatizing words to its 'lemma' form\n",
    "5. Removing Stop World"
   ]
  },
  {
   "cell_type": "code",
   "execution_count": 22,
   "metadata": {
    "id": "bEuG8zQEvMqv"
   },
   "outputs": [],
   "source": [
    "# nltk.download('stopwords')\n",
    "# all_stopwords = stopwords.words('english')\n",
    "# all_stopwords.remove('not')\n",
    "stemmer = PorterStemmer()\n",
    "emojis = {':)': 'smile', ':-)': 'smile', ';d': 'wink', ':-E': 'vampire', ':(': 'sad', \n",
    "          ':-(': 'sad', ':-<': 'sad', ':P': 'raspberry', ':O': 'surprised',\n",
    "          ':-@': 'shocked', ':@': 'shocked',':-$': 'confused', ':\\\\': 'annoyed', \n",
    "          ':#': 'mute', ':X': 'mute', ':^)': 'smile', ':-&': 'confused', '$_$': 'greedy',\n",
    "          '@@': 'eyeroll', ':-!': 'confused', ':-D': 'smile', ':-0': 'yell', 'O.o': 'confused',\n",
    "          '<(-_-)>': 'robot', 'd[-_-]b': 'dj', \":'-)\": 'sadsmile', ';)': 'wink', \n",
    "          ';-)': 'wink', 'O:-)': 'angel','O*-)': 'angel','(:-D': 'gossip', '=^.^=': 'cat'}\n",
    "\n",
    "def preprocess(text):\n",
    "    text = text.split()\n",
    "    text = [word if word not in emojis.keys() else emojis[word] for word in text]\n",
    "    text = [stemmer.stem(word) for word in text]\n",
    "    text = ' '.join(text)\n",
    "    text = re.sub('[^a-zA-Z]',' ',text)\n",
    "    text = text.lower()\n",
    "    return text"
   ]
  },
  {
   "cell_type": "code",
   "execution_count": 23,
   "metadata": {
    "id": "VOiCxY9RvMqv"
   },
   "outputs": [],
   "source": [
    "df['tweet'] = df['tweet'].map(preprocess)"
   ]
  },
  {
   "cell_type": "code",
   "execution_count": 24,
   "metadata": {
    "id": "TvjTt8B7xlwX"
   },
   "outputs": [],
   "source": [
    "# X_train = df[df.split=='train'].tweet.tolist()\n",
    "# y_train = df[df.split=='train'].label.tolist()\n",
    "\n",
    "X_train, X_test, y_train, y_test = train_test_split(df[\"tweet\"], df[\"label\"],\n",
    "                                                    stratify=df[\"label\"],\n",
    "                                                    train_size=0.8,\n",
    "                                                    random_state=22)\n",
    "\n",
    "# X_test = df[df.split=='test'].tweet.tolist()\n",
    "# y_test = df[df.split=='test'].label.tolist()\n"
   ]
  },
  {
   "cell_type": "code",
   "execution_count": 24,
   "metadata": {
    "id": "Omq9w1RXDTTE"
   },
   "outputs": [],
   "source": []
  },
  {
   "cell_type": "markdown",
   "metadata": {
    "id": "x6TYFHwqfeVL"
   },
   "source": [
    "## Let us try out the following techniques to analyze the sentiment in these tweets\n",
    "1. Universal Sentence Encoder with SVM Gaussian\n",
    "2. Universal Sentence Encoder with Naive Bayes\n",
    "3. TFIDF with SVM Gaussian\n",
    "4. TFIDF with Naive Bayes"
   ]
  },
  {
   "cell_type": "markdown",
   "metadata": {
    "id": "_xtFcDh0vMqw"
   },
   "source": [
    "## Universal Sentence Encoder\n",
    "#### source : https://aclanthology.org/D18-2029/\n",
    "#### hub : https://tfhub.dev/google/collections/universal-sentence-encoder/1 "
   ]
  },
  {
   "cell_type": "code",
   "execution_count": 25,
   "metadata": {
    "colab": {
     "base_uri": "https://localhost:8080/"
    },
    "id": "1XoOBg1pvMqx",
    "outputId": "c98c7d16-10c9-4a2b-f73e-0c7aacbd26ee"
   },
   "outputs": [
    {
     "name": "stdout",
     "output_type": "stream",
     "text": [
      "INFO:tensorflow:Saver not created because there are no variables in the graph to restore\n"
     ]
    },
    {
     "name": "stderr",
     "output_type": "stream",
     "text": [
      "INFO:tensorflow:Saver not created because there are no variables in the graph to restore\n"
     ]
    },
    {
     "name": "stdout",
     "output_type": "stream",
     "text": [
      "INFO:tensorflow:Saver not created because there are no variables in the graph to restore\n"
     ]
    },
    {
     "name": "stderr",
     "output_type": "stream",
     "text": [
      "INFO:tensorflow:Saver not created because there are no variables in the graph to restore\n"
     ]
    }
   ],
   "source": [
    "## Load USE\n",
    "# Import the Universal Sentence Encoder's TF Hub module\n",
    "embed = hub.Module('https://tfhub.dev/google/universal-sentence-encoder/2')\n",
    "\n",
    "with tf.Session() as session:\n",
    "        session.run([tf.global_variables_initializer(), tf.tables_initializer()])\n",
    "        X_train_use = session.run(embed(X_train))\n",
    "        X_test_use = session.run(embed(X_test))\n",
    "\n",
    "\n",
    "# with tf.device('/gpu:0'):\n",
    "#           train_embed = embed(X_train)\n",
    "#           test_embeds = embed(X_test)"
   ]
  },
  {
   "cell_type": "code",
   "execution_count": 26,
   "metadata": {
    "id": "x8W0BsXiEZK9"
   },
   "outputs": [],
   "source": [
    "# oversample = SMOTE()\n",
    "# X_train_use, y_train_use = oversample.fit_resample(X_train_use, y_train)\n",
    "# summarize the new class distribution\n",
    "# counter = Counter(y_train_use)\n",
    "# print(counter)"
   ]
  },
  {
   "cell_type": "code",
   "execution_count": 27,
   "metadata": {
    "colab": {
     "base_uri": "https://localhost:8080/"
    },
    "id": "7PFMis_76Vhk",
    "outputId": "e623bcae-76c0-404e-8110-16a96e1a89a5"
   },
   "outputs": [
    {
     "data": {
      "text/plain": [
       "(32000, 512)"
      ]
     },
     "execution_count": 27,
     "metadata": {},
     "output_type": "execute_result"
    }
   ],
   "source": [
    "np.shape(X_train_use)"
   ]
  },
  {
   "cell_type": "code",
   "execution_count": 28,
   "metadata": {
    "colab": {
     "base_uri": "https://localhost:8080/"
    },
    "id": "h8Y_TQ90vMqy",
    "outputId": "a1f574e3-bf7d-44d6-c470-5f2f1e4254c3"
   },
   "outputs": [
    {
     "name": "stdout",
     "output_type": "stream",
     "text": [
      "***** SVM GAUSSIAN KERNEL WITH UNIVERSAL SENTENCE ENCODER RESULTS *****\n",
      "Accuracy :  0.759\n",
      "Classification Report:                precision    recall  f1-score   support\n",
      "\n",
      "    negative       0.75      0.76      0.76      3938\n",
      "    positive       0.77      0.76      0.76      4062\n",
      "\n",
      "    accuracy                           0.76      8000\n",
      "   macro avg       0.76      0.76      0.76      8000\n",
      "weighted avg       0.76      0.76      0.76      8000\n",
      "\n",
      "Confusion Matrix:  [[3005  933]\n",
      " [ 995 3067]]\n"
     ]
    }
   ],
   "source": [
    "svclassifier = SVC(kernel='rbf',C=5,gamma=5,class_weight = 'balanced') #Call the classifier method\n",
    "svclassifier.fit(X_train_use, y_train) #Fit the model on the training data\n",
    "y_pred = svclassifier.predict(X_test_use) #Predict on the test inputs\n",
    "\n",
    "print(\"***** SVM GAUSSIAN KERNEL WITH UNIVERSAL SENTENCE ENCODER RESULTS *****\")\n",
    "print(\"Accuracy : \",accuracy_score(y_pred,y_test))\n",
    "print(\"Classification Report: \",classification_report(y_pred,y_test))\n",
    "print(\"Confusion Matrix: \",confusion_matrix(y_pred,y_test))"
   ]
  },
  {
   "cell_type": "markdown",
   "metadata": {
    "id": "m2gT3TCm-xVs"
   },
   "source": [
    "#### now let us try to put the sentence embeddings through a Naive Bayes Gaussian Classifier"
   ]
  },
  {
   "cell_type": "code",
   "execution_count": 29,
   "metadata": {
    "colab": {
     "base_uri": "https://localhost:8080/"
    },
    "id": "KhEubkDNvMqy",
    "outputId": "9aa0593f-f36d-42ae-e1e4-6c2207d560e5"
   },
   "outputs": [
    {
     "name": "stdout",
     "output_type": "stream",
     "text": [
      "***** GAUSSIAN NB WITH UNIVERSAL SENTENCE ENCODER RESULTS *****\n",
      "Accuracy :  0.710875\n",
      "Classification Report:                precision    recall  f1-score   support\n",
      "\n",
      "    negative       0.69      0.72      0.70      3809\n",
      "    positive       0.73      0.70      0.72      4191\n",
      "\n",
      "    accuracy                           0.71      8000\n",
      "   macro avg       0.71      0.71      0.71      8000\n",
      "weighted avg       0.71      0.71      0.71      8000\n",
      "\n",
      "Confusion Matrix:  [[2748 1061]\n",
      " [1252 2939]]\n"
     ]
    }
   ],
   "source": [
    "nb = GaussianNB() #Call the classifier method\n",
    "nb.fit(X_train_use, y_train) #Fit the model on the training data\n",
    "y_pred = nb.predict(X_test_use) #Predict on the test inputs\n",
    "\n",
    "print(\"***** GAUSSIAN NB WITH UNIVERSAL SENTENCE ENCODER RESULTS *****\")\n",
    "print(\"Accuracy : \",accuracy_score(y_pred,y_test))\n",
    "print(\"Classification Report: \",classification_report(y_pred,y_test))\n",
    "print(\"Confusion Matrix: \",confusion_matrix(y_pred,y_test))"
   ]
  },
  {
   "cell_type": "markdown",
   "metadata": {
    "id": "3aQ_UjIEvE6k"
   },
   "source": [
    "#### So far, we were able to achieve the best overall f1 score with the SVM classifier.\n",
    "#### We could try comparing these results against a few word embedding techniques to see, if using sentence embeddings outperform them"
   ]
  },
  {
   "cell_type": "markdown",
   "metadata": {
    "id": "2tupS3p_vE6k"
   },
   "source": [
    "## Now let us see how word embeddings perform \n",
    "## We could go with word2vec to embed these tweets\n",
    "### We shall average word2vec embeddings for each work in a tweet to get the embedding for a whole sentence"
   ]
  },
  {
   "cell_type": "code",
   "execution_count": 11,
   "metadata": {
    "id": "sZiifUNKcgVZ"
   },
   "outputs": [],
   "source": [
    "w2v_model = word2vec.Word2Vec(X_train, size=256, min_count=1, iter=50) \n",
    "def average_word_vectors(words, model, vocabulary, num_features):\n",
    "    \n",
    "    feature_vector = np.zeros((num_features,),dtype=\"float64\")\n",
    "    nwords = 0.\n",
    "    \n",
    "    for word in words:\n",
    "        if word in vocabulary: \n",
    "            nwords = nwords + 1.\n",
    "            feature_vector = np.add(feature_vector, model[word])\n",
    "    \n",
    "    if nwords:\n",
    "        feature_vector = np.divide(feature_vector, nwords)\n",
    "        \n",
    "    return feature_vector\n",
    "    \n",
    "   \n",
    "def averaged_word_vectorizer(corpus, model, num_features):\n",
    "    vocabulary = set(model.wv.index2word)\n",
    "    features = [average_word_vectors(tokenized_sentence, model, vocabulary, num_features)\n",
    "                    for tokenized_sentence in corpus]\n",
    "    return np.array(features)\n",
    "\n",
    "w2vX_train = averaged_word_vectorizer(corpus=X_train, model=w2v_model,\n",
    "                                             num_features = 256)\n",
    "w2vX_test = averaged_word_vectorizer(corpus=X_test, model=w2v_model,\n",
    "                                             num_features = 256)"
   ]
  },
  {
   "cell_type": "code",
   "execution_count": 13,
   "metadata": {
    "colab": {
     "base_uri": "https://localhost:8080/"
    },
    "id": "PGYT1Y0q_CO3",
    "outputId": "c1b56c27-18dc-4f71-dcaa-14dd9f4d91d4"
   },
   "outputs": [
    {
     "name": "stdout",
     "output_type": "stream",
     "text": [
      "***** SVM GAUSSIAN KERNEL WITH TFIDF RESULTS *****\n",
      "Accuracy :  0.587\n",
      "Classification Report:                precision    recall  f1-score   support\n",
      "\n",
      "    negative       0.62      0.58      0.60      4228\n",
      "    positive       0.56      0.59      0.57      3772\n",
      "\n",
      "    accuracy                           0.59      8000\n",
      "   macro avg       0.59      0.59      0.59      8000\n",
      "weighted avg       0.59      0.59      0.59      8000\n",
      "\n",
      "Confusion Matrix:  [[2462 1766]\n",
      " [1538 2234]]\n"
     ]
    }
   ],
   "source": [
    "\n",
    "svclassifier = SVC(kernel='rbf',C=5,gamma=5,class_weight = 'balanced') #Call the classifier method\n",
    "svclassifier.fit(w2vX_train, y_train) #Fit the model on the training data\n",
    "y_pred = svclassifier.predict(w2vX_test) #Predict on the test inputs\n",
    "\n",
    "print(\"***** SVM GAUSSIAN KERNEL WITH TFIDF RESULTS *****\")\n",
    "print(\"Accuracy : \",accuracy_score(y_pred,y_test))\n",
    "print(\"Classification Report: \",classification_report(y_pred,y_test))\n",
    "print(\"Confusion Matrix: \",confusion_matrix(y_pred,y_test))"
   ]
  },
  {
   "cell_type": "code",
   "execution_count": 15,
   "metadata": {
    "colab": {
     "base_uri": "https://localhost:8080/"
    },
    "id": "QfWJJQ9HvE6l",
    "outputId": "44cbf497-a911-437b-b81e-08175414a97f"
   },
   "outputs": [
    {
     "name": "stdout",
     "output_type": "stream",
     "text": [
      "*****GAUSSIAN NB KERNEL WITH TFIDF RESULTS *****\n",
      "Accuracy :  0.53775\n",
      "Classification Report:                precision    recall  f1-score   support\n",
      "\n",
      "    negative       0.69      0.53      0.60      5196\n",
      "    positive       0.39      0.55      0.46      2804\n",
      "\n",
      "    accuracy                           0.54      8000\n",
      "   macro avg       0.54      0.54      0.53      8000\n",
      "weighted avg       0.58      0.54      0.55      8000\n",
      "\n",
      "Confusion Matrix:  [[2749 2447]\n",
      " [1251 1553]]\n"
     ]
    }
   ],
   "source": [
    "from sklearn.feature_extraction.text import TfidfVectorizer\n",
    "nb = GaussianNB()\n",
    "nb.fit(w2vX_train, y_train) #Fit the model on the training data\n",
    "y_pred = nb.predict(w2vX_test) #Predict on the test inputs\n",
    "\n",
    "print(\"*****GAUSSIAN NB KERNEL WITH TFIDF RESULTS *****\")\n",
    "print(\"Accuracy : \",accuracy_score(y_pred,y_test))\n",
    "print(\"Classification Report: \",classification_report(y_pred,y_test))\n",
    "print(\"Confusion Matrix: \",confusion_matrix(y_pred,y_test))"
   ]
  },
  {
   "cell_type": "markdown",
   "metadata": {
    "id": "PyBj-i8nfK9O"
   },
   "source": [
    "### Conclusion\n",
    "\n",
    "### Further works:\n",
    "\n",
    "1. To improve the performance, we could use more features like Textblob sentence polarity.\n",
    "2. Word2Vec offers features like Negative Emotionality, that could be added in as feature.\n",
    "3. Try out other word embedding techniques and/or frequency based technique like the TFIDF and count vectorizer"
   ]
  },
  {
   "cell_type": "code",
   "execution_count": null,
   "metadata": {},
   "outputs": [],
   "source": []
  }
 ],
 "metadata": {
  "accelerator": "TPU",
  "colab": {
   "collapsed_sections": [],
   "name": "main.ipynb",
   "provenance": []
  },
  "kernelspec": {
   "display_name": "Python 3",
   "language": "python",
   "name": "python3"
  },
  "language_info": {
   "codemirror_mode": {
    "name": "ipython",
    "version": 3
   },
   "file_extension": ".py",
   "mimetype": "text/x-python",
   "name": "python",
   "nbconvert_exporter": "python",
   "pygments_lexer": "ipython3",
   "version": "3.6.9"
  }
 },
 "nbformat": 4,
 "nbformat_minor": 1
}
